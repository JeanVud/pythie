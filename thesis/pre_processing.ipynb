{
 "cells": [
  {
   "cell_type": "code",
   "execution_count": 3,
   "metadata": {},
   "outputs": [
    {
     "name": "stderr",
     "output_type": "stream",
     "text": [
      "[nltk_data] Downloading package stopwords to\n",
      "[nltk_data]     /home/giangvdq/nltk_data...\n",
      "[nltk_data]   Package stopwords is already up-to-date!\n",
      "[nltk_data] Downloading package punkt to /home/giangvdq/nltk_data...\n",
      "[nltk_data]   Package punkt is already up-to-date!\n"
     ]
    }
   ],
   "source": [
    "import numpy as np # linear algebra\n",
    "import pandas as pd # data processing, CSV file I/O (e.g. pd.read_csv)\n",
    "\n",
    "import os\n",
    "import re\n",
    "import nltk\n",
    "\n",
    "nltk.download(\"stopwords\")\n",
    "nltk.download('punkt')\n",
    "from nltk.corpus import stopwords\n",
    "from nltk.stem import WordNetLemmatizer"
   ]
  },
  {
   "cell_type": "code",
   "execution_count": 4,
   "metadata": {},
   "outputs": [
    {
     "name": "stdout",
     "output_type": "stream",
     "text": [
      "/home/giangvdq/data/NIPS Papers/papers.csv\n"
     ]
    }
   ],
   "source": [
    "#PHASE 1: PRE-PROCESSING WITH PANDAS\n",
    "\n",
    "data_path = \"/home/giangvdq/data/NIPS Papers\"\n",
    "for dirname, _, filenames in os.walk(data_path):\n",
    "    for filename in filenames:\n",
    "        if 'papers.csv' in filename:\n",
    "            papers_path = os.path.join(dirname, filename)\n",
    "\n",
    "print(papers_path)"
   ]
  },
  {
   "cell_type": "code",
   "execution_count": 5,
   "metadata": {},
   "outputs": [],
   "source": [
    "data = pd.read_csv(papers_path)"
   ]
  },
  {
   "cell_type": "code",
   "execution_count": 6,
   "metadata": {},
   "outputs": [],
   "source": [
    "# STEP 1: REMOVE SPECIAL CHARACTERS USING REGEX RE LIBRARY\n",
    "def cleaned_text(text): \n",
    "    clean = re.sub(\"\\n\",\" \",text)\n",
    "    clean=clean.lower()\n",
    "    clean=re.sub(r\"[~.,%/:;?_&+*=!-]\",\" \",clean)\n",
    "    clean=re.sub(\"[^a-z]\",\" \",clean)\n",
    "    clean=clean.lstrip()\n",
    "    clean=re.sub(\"\\s{2,}\",\" \",clean)\n",
    "    return clean\n",
    "\n",
    "data[\"cleaned_paper_text\"]=data[\"paper_text\"].apply(cleaned_text)"
   ]
  },
  {
   "cell_type": "code",
   "execution_count": 7,
   "metadata": {},
   "outputs": [],
   "source": [
    "# STEP 2: REMOVING INVALID WORDS THAT HAVE FEWER THAN 3 CHARACTERS\n",
    "data[\"cleaned_paper_text\"] = data[\"cleaned_paper_text\"].apply(lambda x: ' '.join([word for word in x.split() if len(word)>3]))"
   ]
  },
  {
   "cell_type": "code",
   "execution_count": 8,
   "metadata": {},
   "outputs": [],
   "source": [
    "# STEP 3: REMOVE STOPWORDS AND JOIN TO STRING\n",
    "stop=stopwords.words('english')\n",
    "\n",
    "manual_stopwords = [\"also\", 'model', 'use', 'function', 'learn', 'show', 'result']\n",
    "\n",
    "stop.extend(manual_stopwords)\n",
    "\n",
    "data[\"stop_removed_paper_text\"] = (data[\"cleaned_paper_text\"]\n",
    ".apply(lambda x: ' '.join([word for word in x.split() if word not in (stop)])))"
   ]
  },
  {
   "cell_type": "code",
   "execution_count": 9,
   "metadata": {},
   "outputs": [],
   "source": [
    "# STEP 4: TOKENIZE TEXT COLUMN\n",
    "data[\"tokenized\"]=data[\"stop_removed_paper_text\"].apply(lambda x: nltk.word_tokenize(x))"
   ]
  },
  {
   "cell_type": "code",
   "execution_count": 10,
   "metadata": {},
   "outputs": [],
   "source": [
    "# STEP 5: LEMMATIZE THE VERBS AND OUTPUT STRING\n",
    "def word_lemmatizer_verb(text):\n",
    "    lem_text = [WordNetLemmatizer().lemmatize(i,pos='v') for i in text]\n",
    "    return lem_text\n",
    "\n",
    "def word_lemmatizer_noun(text):\n",
    "    lem_text = [WordNetLemmatizer().lemmatize(i,pos='n') for i in text]\n",
    "    return lem_text\n",
    "\n",
    "\n",
    "data[\"lemmatized\"] = data[\"tokenized\"].apply(lambda x: word_lemmatizer_verb(x))\n",
    "data[\"lemmatized\"] = data[\"lemmatized\"].apply(lambda x: word_lemmatizer_noun(x))\n",
    "\n",
    "data[\"lemmatize_joined\"] = data[\"lemmatized\"].apply(lambda x: ' '.join(x))"
   ]
  },
  {
   "cell_type": "code",
   "execution_count": 11,
   "metadata": {},
   "outputs": [],
   "source": [
    "data.to_csv(path_or_buf = '/home/giangvdq/data/NIPS Papers/papers_processed.csv', \n",
    "            columns = ['id', 'lemmatize_joined'], \n",
    "            index = False)"
   ]
  }
 ],
 "metadata": {
  "kernelspec": {
   "display_name": "Python 3",
   "language": "python",
   "name": "python3"
  },
  "language_info": {
   "codemirror_mode": {
    "name": "ipython",
    "version": 3
   },
   "file_extension": ".py",
   "mimetype": "text/x-python",
   "name": "python",
   "nbconvert_exporter": "python",
   "pygments_lexer": "ipython3",
   "version": "3.8.5"
  }
 },
 "nbformat": 4,
 "nbformat_minor": 4
}
