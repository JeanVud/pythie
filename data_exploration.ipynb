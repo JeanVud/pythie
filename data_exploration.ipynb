{
 "cells": [
  {
   "cell_type": "code",
   "execution_count": 9,
   "metadata": {},
   "outputs": [],
   "source": [
    "import os\n",
    "os.environ['SPARK_HOME'] = '/opt/spark/spark-3.0.1-bin-hadoop2.7'\n",
    "import findspark\n",
    "findspark.init()\n",
    "import pyspark\n",
    "from pyspark.sql import SparkSession, functions\n",
    "from pyspark.sql.functions import asc, count, col\n",
    "\n",
    "import configuration\n",
    "\n",
    "spark = SparkSession.builder.master(\"local[*]\") \\\n",
    "                    .appName('Topic Modelling') \\\n",
    "                    .getOrCreate()"
   ]
  },
  {
   "cell_type": "code",
   "execution_count": 2,
   "metadata": {},
   "outputs": [],
   "source": [
    "path = configuration.PATHS[\"docword\"][\"nytimes\"]\n",
    "df = spark.read.text(path)"
   ]
  },
  {
   "cell_type": "code",
   "execution_count": 3,
   "metadata": {},
   "outputs": [],
   "source": [
    "metadata = df.head(3)\n",
    "numDocs = int(metadata[0].value)\n",
    "numWordsVocab = int(metadata[1].value)\n",
    "numWordsCollection = int(metadata[2].value)\n",
    "\n",
    "df = df.filter(df[\"value\"].contains(\" \"))\n",
    "split_col = pyspark.sql.functions.split(df['value'], ' ')\n",
    "df = df.withColumn('docId', split_col.getItem(0)) \\\n",
    "        .withColumn('wordId', split_col.getItem(1)) \\\n",
    "        .withColumn('count', split_col.getItem(2)) \\\n",
    "        .drop(df['value'])"
   ]
  },
  {
   "cell_type": "code",
   "execution_count": 4,
   "metadata": {},
   "outputs": [
    {
     "name": "stdout",
     "output_type": "stream",
     "text": [
      "+-----+------+-----+\n",
      "|docId|wordId|count|\n",
      "+-----+------+-----+\n",
      "|    1|   413|    1|\n",
      "|    1|   534|    1|\n",
      "|    1|  2340|    1|\n",
      "|    1|  2806|    1|\n",
      "|    1|  3059|    1|\n",
      "|    1|  3070|    1|\n",
      "|    1|  3294|    1|\n",
      "|    1|  3356|    1|\n",
      "|    1|  4056|    1|\n",
      "|    1|  4930|    1|\n",
      "|    1|  5255|    1|\n",
      "|    1|  6888|    1|\n",
      "|    1|  6946|    1|\n",
      "|    1|  6974|    2|\n",
      "|    1|  7296|    1|\n",
      "|    1|  7402|    1|\n",
      "|    1|  7405|    1|\n",
      "|    1|  7409|    1|\n",
      "|    1|  7544|    1|\n",
      "|    1|  7790|    1|\n",
      "+-----+------+-----+\n",
      "only showing top 20 rows\n",
      "\n"
     ]
    }
   ],
   "source": [
    "df.show()"
   ]
  },
  {
   "cell_type": "code",
   "execution_count": 5,
   "metadata": {},
   "outputs": [
    {
     "name": "stdout",
     "output_type": "stream",
     "text": [
      "299752\n"
     ]
    }
   ],
   "source": [
    "# total number of documents \n",
    "print(df.select(df.docId).distinct().count())"
   ]
  },
  {
   "cell_type": "code",
   "execution_count": 6,
   "metadata": {},
   "outputs": [
    {
     "name": "stdout",
     "output_type": "stream",
     "text": [
      "+-----+----------+\n",
      "|docId|word_count|\n",
      "+-----+----------+\n",
      "|  296|       260|\n",
      "|  467|       196|\n",
      "|  675|       164|\n",
      "|  691|       322|\n",
      "|  829|       251|\n",
      "| 1090|       153|\n",
      "| 1159|       194|\n",
      "| 1436|       203|\n",
      "| 1512|       164|\n",
      "| 1572|       234|\n",
      "| 2069|        15|\n",
      "| 2088|       166|\n",
      "| 2136|       239|\n",
      "| 2162|       112|\n",
      "| 2294|       261|\n",
      "| 2904|       160|\n",
      "| 3210|       236|\n",
      "| 3414|       168|\n",
      "| 3606|       147|\n",
      "| 3959|       300|\n",
      "+-----+----------+\n",
      "only showing top 20 rows\n",
      "\n"
     ]
    }
   ],
   "source": [
    "documentWordCount = df.groupBy(\"docId\").agg(count(\"count\").alias(\"word_count\"))\n",
    "\n",
    "documentWordCount.show()"
   ]
  },
  {
   "cell_type": "code",
   "execution_count": 7,
   "metadata": {},
   "outputs": [
    {
     "name": "stdout",
     "output_type": "stream",
     "text": [
      "+------+----------+\n",
      "| docId|word_count|\n",
      "+------+----------+\n",
      "| 69866|         1|\n",
      "| 37339|         1|\n",
      "| 94290|         1|\n",
      "|130691|         1|\n",
      "| 82968|         1|\n",
      "|130701|         1|\n",
      "|161376|         1|\n",
      "|196096|         1|\n",
      "|130675|         1|\n",
      "|130753|         1|\n",
      "|142760|         1|\n",
      "|130724|         1|\n",
      "| 78562|         1|\n",
      "|130757|         1|\n",
      "|161374|         1|\n",
      "|106369|         1|\n",
      "|130730|         1|\n",
      "| 92116|         1|\n",
      "| 92129|         1|\n",
      "| 54759|         1|\n",
      "+------+----------+\n",
      "only showing top 20 rows\n",
      "\n"
     ]
    }
   ],
   "source": [
    "documentWordCount.sort(col(\"word_count\").asc()).show()"
   ]
  },
  {
   "cell_type": "code",
   "execution_count": 10,
   "metadata": {},
   "outputs": [
    {
     "data": {
      "text/plain": [
       "'/home/giangvdq/data/docword.nytimes.txt.gz'"
      ]
     },
     "execution_count": 10,
     "metadata": {},
     "output_type": "execute_result"
    }
   ],
   "source": []
  }
 ],
 "metadata": {
  "kernelspec": {
   "display_name": "Python 3",
   "language": "python",
   "name": "python3"
  },
  "language_info": {
   "codemirror_mode": {
    "name": "ipython",
    "version": 3
   },
   "file_extension": ".py",
   "mimetype": "text/x-python",
   "name": "python",
   "nbconvert_exporter": "python",
   "pygments_lexer": "ipython3",
   "version": "3.8.5"
  }
 },
 "nbformat": 4,
 "nbformat_minor": 4
}
